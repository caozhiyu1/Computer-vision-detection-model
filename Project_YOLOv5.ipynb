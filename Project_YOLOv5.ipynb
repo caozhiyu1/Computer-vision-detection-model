{
  "cells": [
    {
      "cell_type": "code",
      "execution_count": null,
      "metadata": {
        "id": "motXB4vqgUZw"
      },
      "outputs": [],
      "source": [
        "from google.colab import drive\n",
        "drive.mount('/content/drive')\n",
        "\n",
        "!unzip '/content/drive/MyDrive/10.zip'"
      ]
    },
    {
      "cell_type": "code",
      "execution_count": null,
      "metadata": {
        "id": "hJim5VhTfgZf"
      },
      "outputs": [],
      "source": [
        "!git clone https://github.com/ultralytics/yolov5\n",
        "%cd yolov5\n",
        "%pip install -qr requirements.txt comet_ml"
      ]
    },
    {
      "cell_type": "code",
      "execution_count": null,
      "metadata": {
        "id": "87os9HXQgfll"
      },
      "outputs": [],
      "source": [
        "dataset_path = \"/content/fall.v2i.yolov5python\""
      ]
    },
    {
      "cell_type": "code",
      "execution_count": null,
      "metadata": {
        "id": "BmcQN284gucb"
      },
      "outputs": [],
      "source": [
        "data_yaml = f\"\"\"\n",
        "train: {dataset_path}/images/train/\n",
        "val: {dataset_path}/images/valid/\n",
        "test: {dataset_path}/images/test/\n",
        "nc: 2\n",
        "names: ['fall','person']\n",
        "\"\"\"\n",
        "with open(\"/content/fall.v2i.yolov5python/data.yaml\", \"w\") as f:\n",
        "    f.write(data_yaml)"
      ]
    },
    {
      "cell_type": "code",
      "execution_count": null,
      "metadata": {
        "id": "DaM7gYRsPuSW"
      },
      "outputs": [],
      "source": [
        "train_folder = '/content/fall.v2i.yolov5python/images/train/'\n",
        "val_folder = '/content/fall.v2i.yolov5python/images/valid/'\n",
        "test_folder = '/content/fall.v2i.yolov5python/images/test/'"
      ]
    },
    {
      "cell_type": "code",
      "execution_count": null,
      "metadata": {
        "id": "8_TsFoZZ7IAh"
      },
      "outputs": [],
      "source": [
        "from google.colab import drive\n",
        "drive.mount('/content/drive')"
      ]
    },
    {
      "cell_type": "code",
      "execution_count": null,
      "metadata": {
        "id": "waP_d3V5Qz3p"
      },
      "outputs": [],
      "source": [
        "import os\n",
        "\n",
        "def create_txt_file(folder_path, txt_path):\n",
        "    image_files = sorted([f for f in os.listdir(folder_path) if f.endswith('.jpg')])\n",
        "\n",
        "    with open(txt_path, 'w') as file:\n",
        "        for img_file in image_files:\n",
        "            file.write(os.path.join(folder_path, img_file) + '\\n')"
      ]
    },
    {
      "cell_type": "code",
      "execution_count": null,
      "metadata": {
        "id": "t5mtrnBaR03l"
      },
      "outputs": [],
      "source": [
        "create_txt_file(train_folder, '/content/fall.v2i.yolov5python/train.txt')\n",
        "create_txt_file(val_folder, '/content/fall.v2i.yolov5python/valid.txt')\n",
        "create_txt_file(test_folder, '/content/fall.v2i.yolov5python/test.txt')"
      ]
    },
    {
      "cell_type": "code",
      "execution_count": null,
      "metadata": {
        "colab": {
          "background_save": true
        },
        "id": "fvXKDVYhOK_5"
      },
      "outputs": [],
      "source": [
        "%cd /content/yolov5\n",
        "!python train.py --img 640 --batch 8 --epochs 500 --data /content/fall.v2i.yolov5python/data.yaml --weights yolov5n.pt --cache"
      ]
    },
    {
      "cell_type": "code",
      "execution_count": null,
      "metadata": {
        "id": "mu10hmCeoqFo"
      },
      "outputs": [],
      "source": [
        "# optional, zip to download weights and results locally\n",
        "!zip -r export.zip runs/train/exp/weights/best.pt\n",
        "!zip export.zip runs/train/exp/*"
      ]
    },
    {
      "cell_type": "code",
      "execution_count": null,
      "metadata": {
        "id": "g0qWluavJZiJ"
      },
      "outputs": [],
      "source": [
        "from google.colab import files\n",
        "files.download('export.zip')"
      ]
    },
    {
      "cell_type": "code",
      "execution_count": null,
      "metadata": {
        "id": "I3Wo78KqJ-Z2"
      },
      "outputs": [],
      "source": [
        "!python val.py --img 640 --weights runs/train/exp/weights/best.pt --data /content/fall.v2i.yolov5python/data.yaml --task test"
      ]
    },
    {
      "cell_type": "code",
      "execution_count": null,
      "metadata": {
        "id": "JF7EjQUSKxS8"
      },
      "outputs": [],
      "source": [
        "!zip -r results.zip runs/val\n",
        "\n",
        "from google.colab import files\n",
        "files.download('results.zip')"
      ]
    }
  ],
  "metadata": {
    "accelerator": "GPU",
    "colab": {
      "gpuType": "T4",
      "provenance": []
    },
    "kernelspec": {
      "display_name": "Python 3",
      "name": "python3"
    },
    "language_info": {
      "name": "python"
    }
  },
  "nbformat": 4,
  "nbformat_minor": 0
}